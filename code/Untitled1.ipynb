{
 "cells": [
  {
   "cell_type": "code",
   "execution_count": 1,
   "metadata": {},
   "outputs": [],
   "source": [
    "%matplotlib inline\n",
    "import pytesseract\n",
    "import cv2\n",
    "import os\n",
    "import glob\n",
    "import matplotlib.pyplot as plt\n",
    "\n",
    "os.chdir('..')\n",
    "os.chdir('Images')\n",
    "f = open('./list.txt', 'r')\n",
    "categories = f.read().split('\\n')[:-1]\n",
    "categories.sort()"
   ]
  },
  {
   "cell_type": "code",
   "execution_count": 2,
   "metadata": {},
   "outputs": [],
   "source": [
    "l = glob.glob('./' + categories[0] + '/*')"
   ]
  },
  {
   "cell_type": "code",
   "execution_count": 3,
   "metadata": {},
   "outputs": [
    {
     "name": "stdout",
     "output_type": "stream",
     "text": [
      "(3492, 4656, 3)\n"
     ]
    }
   ],
   "source": [
    "img = cv2.imread(l[0])\n",
    "print(img.shape)"
   ]
  },
  {
   "cell_type": "code",
   "execution_count": 5,
   "metadata": {},
   "outputs": [
    {
     "name": "stdout",
     "output_type": "stream",
     "text": [
      "ace\n",
      "buldak\n",
      "buttering\n",
      "ghana\n",
      "gum\n",
      "hersh\n",
      "honbut\n",
      "kancho\n",
      "kimbob\n",
      "milkis\n",
      "ohgamja\n",
      "postik\n",
      "poweraid\n",
      "samdasu\n",
      "shin\n",
      "shrimp\n",
      "snickers\n",
      "snoopy\n",
      "tropikana\n"
     ]
    }
   ],
   "source": [
    "for i, category in enumerate(categories):\n",
    "    print(category)\n",
    "    for name in glob.glob('./' + category + '/*'):\n",
    "        img = cv2.imread(name)\n",
    "        img = cv2.resize(img, (128, 128), cv2.INTER_AREA)\n",
    "        cv2.imwrite(name, img)"
   ]
  },
  {
   "cell_type": "code",
   "execution_count": null,
   "metadata": {},
   "outputs": [],
   "source": []
  }
 ],
 "metadata": {
  "kernelspec": {
   "display_name": "Python 3",
   "language": "python",
   "name": "python3"
  },
  "language_info": {
   "codemirror_mode": {
    "name": "ipython",
    "version": 3
   },
   "file_extension": ".py",
   "mimetype": "text/x-python",
   "name": "python",
   "nbconvert_exporter": "python",
   "pygments_lexer": "ipython3",
   "version": "3.6.8"
  }
 },
 "nbformat": 4,
 "nbformat_minor": 2
}
