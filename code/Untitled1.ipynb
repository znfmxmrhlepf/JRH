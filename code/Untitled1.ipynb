{
 "cells": [
  {
   "cell_type": "code",
   "execution_count": 1,
   "metadata": {},
   "outputs": [],
   "source": [
    "%matplotlib inline\n",
    "import pytesseract\n",
    "import cv2\n",
    "import os\n",
    "import glob\n",
    "import matplotlib.pyplot as plt\n",
    "\n",
    "os.chdir('/home/ishs/Workspace')\n",
    "os.chdir('Images_Origin')\n",
    "f = open('./list.txt', 'r')\n",
    "categories = f.read().split('\\n')[:-1]\n",
    "categories.sort()"
   ]
  },
  {
   "cell_type": "code",
   "execution_count": 24,
   "metadata": {},
   "outputs": [
    {
     "name": "stdout",
     "output_type": "stream",
     "text": [
      "ace\n",
      "buldak\n",
      "buttering\n",
      "ghana\n",
      "gum\n",
      "hersh\n",
      "honbut\n",
      "kancho\n",
      "kimbob\n",
      "milkis\n",
      "ohgamja\n",
      "postik\n",
      "poweraid\n",
      "samdasu\n",
      "shin\n",
      "shrimp\n",
      "snickers\n",
      "snoopy\n",
      "tropikana\n"
     ]
    }
   ],
   "source": [
    "for i, category in enumerate(categories):\n",
    "    print(category)\n",
    "    for name in glob.glob('./' + category + '/*'):\n",
    "        img = cv2.imread(name)\n",
    "        img = cv2.resize(img, (600, 600), cv2.INTER_AREA)\n",
    "        cv2.imwrite('/home/ishs/Workspace/Images' + name[1:], img)"
   ]
  },
  {
   "cell_type": "code",
   "execution_count": 2,
   "metadata": {},
   "outputs": [
    {
     "name": "stdout",
     "output_type": "stream",
     "text": [
      "ace done\n",
      "ace done\n",
      "ace done\n",
      "ace done\n",
      "ace done\n",
      "buldak done\n",
      "buldak done\n",
      "buldak done\n",
      "buldak done\n",
      "buldak done\n",
      "buldak done\n",
      "buldak done\n",
      "buldak done\n",
      "buldak done\n",
      "buldak done\n",
      "buttering done\n",
      "buttering done\n",
      "buttering done\n",
      "buttering done\n",
      "buttering done\n",
      "buttering done\n",
      "ghana done\n",
      "ghana done\n",
      "gum done\n",
      "gum done\n",
      "gum done\n",
      "gum done\n",
      "gum done\n",
      "gum done\n",
      "gum done\n",
      "gum done\n",
      "gum done\n",
      "gum done\n",
      "gum done\n",
      "gum done\n",
      "gum done\n",
      "hersh done\n",
      "hersh done\n",
      "hersh done\n",
      "hersh done\n",
      "hersh done\n",
      "honbut done\n",
      "honbut done\n",
      "honbut done\n",
      "honbut done\n",
      "honbut done\n",
      "kancho done\n",
      "kancho done\n",
      "kancho done\n",
      "kancho done\n",
      "kancho done\n",
      "kancho done\n",
      "kancho done\n",
      "kimbob done\n",
      "kimbob done\n",
      "kimbob done\n",
      "kimbob done\n",
      "kimbob done\n",
      "kimbob done\n",
      "kimbob done\n",
      "milkis done\n",
      "milkis done\n",
      "milkis done\n",
      "milkis done\n",
      "milkis done\n",
      "milkis done\n",
      "ohgamja done\n",
      "ohgamja done\n",
      "ohgamja done\n",
      "ohgamja done\n",
      "ohgamja done\n",
      "postik done\n",
      "postik done\n",
      "postik done\n",
      "postik done\n",
      "poweraid done\n",
      "poweraid done\n",
      "poweraid done\n",
      "poweraid done\n",
      "poweraid done\n",
      "samdasu done\n",
      "samdasu done\n",
      "samdasu done\n",
      "samdasu done\n",
      "samdasu done\n",
      "shin done\n",
      "shin done\n",
      "shrimp done\n",
      "shrimp done\n",
      "shrimp done\n",
      "shrimp done\n",
      "snickers done\n",
      "snickers done\n",
      "snickers done\n",
      "snickers done\n",
      "snickers done\n",
      "snoopy done\n",
      "snoopy done\n",
      "snoopy done\n",
      "snoopy done\n",
      "tropikana done\n",
      "tropikana done\n",
      "tropikana done\n",
      "tropikana done\n",
      "tropikana done\n"
     ]
    }
   ],
   "source": [
    "import scipy.ndimage\n",
    "os.chdir('/home/ishs/Workspace')\n",
    "for i, category in enumerate(categories):\n",
    "    for j, name in enumerate(glob.glob('./Images_Origin/' + category + '/*')):\n",
    "        img = cv2.resize(cv2.imread(name), (600, 600), cv2.INTER_AREA)\n",
    "        for k in range(0, 361, 5):\n",
    "            cv2.imwrite('./Images/' + category + '/' + str(i) + '_' + str(j) + '_' + str(k) + '.jpg', scipy.ndimage.rotate(img, k, mode='nearest', reshape='False'))\n",
    "        \n",
    "        os.remove(name)\n",
    "        print(category + ' done')"
   ]
  },
  {
   "cell_type": "code",
   "execution_count": 17,
   "metadata": {},
   "outputs": [
    {
     "data": {
      "text/plain": [
       "['./ace/20190322_194812.jpg', './ace/20190322_194758.jpg']"
      ]
     },
     "execution_count": 17,
     "metadata": {},
     "output_type": "execute_result"
    }
   ],
   "source": [
    "glob.glob('./' + category + '/*')"
   ]
  },
  {
   "cell_type": "code",
   "execution_count": null,
   "metadata": {},
   "outputs": [],
   "source": []
  }
 ],
 "metadata": {
  "kernelspec": {
   "display_name": "Python 3",
   "language": "python",
   "name": "python3"
  },
  "language_info": {
   "codemirror_mode": {
    "name": "ipython",
    "version": 3
   },
   "file_extension": ".py",
   "mimetype": "text/x-python",
   "name": "python",
   "nbconvert_exporter": "python",
   "pygments_lexer": "ipython3",
   "version": "3.6.8"
  }
 },
 "nbformat": 4,
 "nbformat_minor": 2
}
